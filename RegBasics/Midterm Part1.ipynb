{
 "cells": [
  {
   "cell_type": "markdown",
   "id": "aa3b21a4-725e-495a-a004-019e0d154f5b",
   "metadata": {},
   "source": [
    "# Midterm Part 1\n",
    "\n",
    "The Midterm exam will be conducted in two parts. __Part 1__ will be released earlier as you have to prepare the dataset yourself. __Part 2__ has three problems and  will be released on the day of the exam (11-03-22)\n",
    "______\n",
    "### Instructions\n",
    "---\n",
    "__DUE:__ Your solutions to this problem is due *before* 6.00 pm on Friday, 11 March 2022 on __Moodle__. You may have to upload your answers seperately for each question in the moodle\n",
    "\n",
    "Your answeres must be typed with R or Python( Techniquely you are allowed use any statitsical software of your choice) code with output/figuresbeneath your responses. Prepare it in Markdown if possible. You may submit it as as a pdf and word file. Prepare __Seperate__ document for each problem.\n",
    "\n",
    "__OBJECTIVE:__ The exam (tests your knowledge on the topics we covered so far and their application. However these problems will also imporve your intution and skills. \n",
    "\n",
    "__IMPORTANT:__  You are expected to work alone on these problems. But I understand the temptation to consult your friends as it is offiline. You may do so to gain the knowledge but try to prepare the responses in own  words.__IDENTICAL DOCUMENTS WILL GET ZERO POINTS__\n",
    "\n",
    "-----\n"
   ]
  },
  {
   "cell_type": "markdown",
   "id": "8e19a0c1-f549-4e62-aee6-672af8dc3799",
   "metadata": {
    "tags": []
   },
   "source": [
    "## Part 1 (50 points)\n",
    "This is an empirical excercie on Capital Assest Pricing Model. \n",
    "Please follow the steps below: \n",
    "\n",
    "__Step 1__ Download time series stock market data. (You can use CMIE database or yahoo finance) the data are available in yearly, monthly, weekly and daily (five days a week) frequencies. Download data for the risk-free rate of return (use either short-term (90 day) Treasury bills or long-term govt security bonds) and adjust it to the time frequency of the stock market data. Finally, download data for the stock market portfolio proxy (for example, say NIFTY50, NIFTY100 or any other relevent portfolilo and let $Q$ be the number of stock indices in that portfoloio).\n",
    "\n",
    "_(Download atleast 30 stcoks prices and a general stock market index.)_\n",
    "\n",
    "__Step 2__ Create the return series for each stock and the market index, using the logarithmic return formula $r_t = \\ln(P_t) − \\ln (P_{t−1})$, where $P_t$ denotes the prices of the stock.(do it for all $Q$ stocks and market index\n",
    "\n",
    "__Step 3__ Create the excess return series for all stocks $r_{it}-r_{ft}$ and for the market return $(r_{mt}-r_{ft})$, as in the CAPM equation.\n",
    "\n",
    "_where $r_{it}$ represents the returns on stock $i$, $r_{mt}$ represents the return on the market portfolio, and $r_{ft}$ is the risk-free rate at time period $t$_\n",
    "\n",
    "__Step 4__ Produce time series graphs of the excess stock returns against the excess market return and observe them. Also calculate summary statistics for all stocks and the market, and the correlation matrix of these returns. Comment on your results by referring to mean returns, volatilities, coefficients of skewness and kurtosis, as well as correlation coefficients.\n",
    "\n",
    "__Step 5__ For each stock, estimate the β coefficient by running the following time series regressions:\n",
    "$$r_{it}=\\alpha+\\beta_ir_{mt}-+\\varepsilon_{it}$$\n",
    "\n",
    "__Step 6__ Summarize and display your results in a table. Comment on the significance of $\\alpha$s and $\\beta$s and the values of  $\\beta$s and $R^2$s in terms of what is expected a priori from the theoretical form of the CAPM. Which of the stocks, on the basis of the parameter estimates you\n",
    "obtain, would you class as defensive stocks and which as aggressive stocks? \n",
    "\n",
    "__Step 7__ Obtain the residuals of each of these regressions, to be used later (in the second-stage cross-sectional regressions).\n",
    "\n",
    "__Step 8__ As an alternative and more rigorous approach to testing the three CAPM hypotheses, from the results already derived, create the following four series, with $Q$ observations each (the number of observations will be determined by the number of stocks you have used in the first-stage regressions). One series with the average (over time) returns of each stock; $\\bar{r}_{it}$, one series with the estimated $\\hat{\\beta}_i$s; one with  $\\hat{\\beta}_i^2$; and one with $\\sigma^2 (\\varepsilon_i)$, the estimated standard deviation of the non-systematic part of the stock $i$, as estimated by the error term of Equation $r_{it}=\\alpha+\\beta_ir_{mt}-+\\varepsilon_{it}$ above. Then run the following cross-sectional regression:\n",
    "$$\\bar{r}_{it}=\\gamma_0+\\gamma_1 \\beta_i+\\gamma_2 \\beta^2_i+\\gamma_3\\sigma^2(\\varepsilon_i)+ e_i; i=1,2,...,Q$$ \n",
    "\n",
    "__Step 9__ In terms of the above regression, the CAPM hypotheses are: \n",
    "- (a) $E(\\gamma_2) = 0$, for linearity; \n",
    "- (b) $E(\\gamma_3) = 0$ only, if beta is the relevant measure of risk;\n",
    "- (c) $E(\\gamma1) > 0$, if there is positive relationship between return and risk. \n",
    "Test these hypotheses.\n",
    "\n",
    "__Step 10__ If in Step 9 (a) and (b) are not rejected, re-estimate the equation in Step 8 including only $\\beta_i$ as an explanatory variable and restate (c). Are your results supportive of the CAPM model?\n",
    "\n",
    "__Step 11__ Graph the average returns against the estimated betas and comment on your graph – remembering that this is the security market line (SML) – with respect to CAPM\n",
    "findings. s the CAPM able to provide any reasonable explanation of the overall variability of the returns to each of the stocks over the sample period?\n",
    "\n",
    "__Step 12__ Write an analytical report of all your analysis. This should include: (a) _a short Introduction_; (b) _a Data Set section_; (c) _an Empirical Results section_ and (d) _a Concluding Remarks section_. Discuss the validity (or otherwise) of the CAPM, including references if you refer to any other studies."
   ]
  },
  {
   "cell_type": "code",
   "execution_count": null,
   "id": "db2fc472-f53d-46e1-9c21-fd7e77107ea5",
   "metadata": {},
   "outputs": [],
   "source": []
  }
 ],
 "metadata": {
  "kernelspec": {
   "display_name": "R",
   "language": "R",
   "name": "ir"
  },
  "language_info": {
   "codemirror_mode": "r",
   "file_extension": ".r",
   "mimetype": "text/x-r-source",
   "name": "R",
   "pygments_lexer": "r",
   "version": "3.6.1"
  }
 },
 "nbformat": 4,
 "nbformat_minor": 5
}
