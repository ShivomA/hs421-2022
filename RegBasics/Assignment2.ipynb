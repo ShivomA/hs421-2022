{
 "cells": [
  {
   "cell_type": "markdown",
   "id": "aa3b21a4-725e-495a-a004-019e0d154f5b",
   "metadata": {},
   "source": [
    "# Assignment 2\n",
    "\n",
    "## Problem 1\n",
    "\n",
    "see the file 'eg1.csv' in this repository which contains data on 654 youths, aged 3 to 19, in the areas of East Boston in the late 1970s on the following variables\n",
    "\n",
    "- $fev$ = continuous measure (in liters)\n",
    "- $smoke$ = smoker coded as 1, non-smoker coded as 0\n",
    "- $age$ = in years\n",
    "- $ht$ = height in inches\n",
    "- $sex$ = coded 1 for male and 0 for female\n",
    "\n",
    "where $fev$ stands for forced expiratory volume, the volume of air that can be forced out after taking a deep breath, an important measure of pulmonary function. The objective of this exercise is to find out the impact of $age$, $height$, and smoking habits on $fev$.\n",
    "\n",
    "- Try to develop a model to check this? what are the expected results?\n",
    "- Would you reject the hypothesis that the (slope) coefficients of all the regressors are statistically insignificant? \n",
    "- What is the R2 value of your regression model? How would interpret this value?b\n",
    "- Would you expect age and height to be correlated? \n"
   ]
  },
  {
   "cell_type": "markdown",
   "id": "8e19a0c1-f549-4e62-aee6-672af8dc3799",
   "metadata": {
    "tags": []
   },
   "source": [
    "## Problem 2\n",
    "This is an empirical excercie on Capital Assest Pricing Model. Please follow the steps below: \n",
    "\n",
    "__Step 1__ Download time series stock market data. (You can use CMIE database or yahoo finance) the data are available in yearly, monthly, weekly and daily (five days a week) frequencies. Download data for the risk-free rate of return (use either short-term (90 day) Treasury bills or long-term\n",
    "govt security bonds) and adjust it to the time frequency of the stock market data. Finally, download data for the stock market portfolio proxy (for example, say NIFTY50, NIFTY100 or any other relevent portfolilo and let $Q$ be the number of stock indices in that portfoloio).\n",
    "\n",
    "__Step 2__ Create the return series for each stock and the market index, using the logarithmic return formula $r_t = \\ln(P_t) − \\ln (P_{t−1})$, where $P_t$ denotes the prices of the stock.(do it for all $Q$ stocks and market index\n",
    "\n",
    "__Step 3__ Create the excess return series for all stocks $r_{it}-r_{ft}$ and for the market return $(r_{mt}-r_{ft})$, as in the CAPM equation.\n",
    "\n",
    "_where $r_{it}$ represents the returns on stock $i$, $r_{mt}$ represents the return on the market portfolio, and $r_{ft}$ is the risk-free rate at time period $t$_\n",
    "\n",
    "__Step 4__ Produce time series graphs of the excess stock returns against the excess market return and observe them. Also calculate summary statistics for all stocks and the market, and the correlation matrix of these returns. Comment on your results by referring to mean returns, volatilities, coefficients of skewness and kurtosis, as well as correlation coefficients.\n",
    "\n",
    "__Step 5__ For each stock, estimate the β coefficient by running the following time series regressions:\n",
    "$$r_{it}=\\alpha+\\beta_ir_{mt}-+\\varepsilon_{it}$$\n",
    "\n",
    "__Step 6__ Summarize and display your results in a table.\n",
    "\n",
    "__Step 7__ Comment on the significance of $\\alpha$s and $\\beta$s and the values of  $\\beta$s and $R^2$s in terms of what is expected a priori from the theoretical form of the CAPM.\n",
    "\n",
    "__Step 8__ Obtain the residuals of each of these regressions, to be used later (in the second-stage cross-sectional regressions).\n",
    "\n",
    "__Step 9__ As an alternative and more rigorous approach to testing the three CAPM hypotheses, from the results already derived, create the following four series, with $Q$ observations each (the number of observations will be determined by the number of stocks you have used in the first-stage regressions). One series with the average (over time) returns of each stock; $\\bar{r}_{it}$, one series with the estimated $\\hat{\\beta}_i$s; one with  $\\hat{\\beta}_i^2$; and one with $\\sigma^2 (\\varepsilon_i)$, the estimated standard deviation of the non-systematic part of the stock $i$, as estimated by the error term of Equation $r_{it}=\\alpha+\\beta_ir_{mt}-+\\varepsilon_{it}$ above. Then run the following cross-sectional regression:\n",
    "$$\\bar{r}_{it}=\\gamma_0+\\gamma_1 \\beta_i+\\gamma_2 \\beta^2_i+\\gamma_3\\sigma^2(\\varepsilon_i)+ e_i; i=1,2,...,Q$$ \n",
    "\n",
    "__Step 10__ In terms of the above regression, the CAPM hypotheses are: \n",
    "- (a) $E(\\gamma_2) = 0$, for linearity; \n",
    "- (b) $E(\\gamma_3) = 0$ only, if beta is the relevant measure of risk;\n",
    "- (c) $E(\\gamma1) > 0$, if there is positive relationship between return and risk. \n",
    "Test these hypotheses.\n",
    "\n",
    "__Step 11__ If in Step 10 (a) and (b) are not rejected, re-estimate the equation in Step 9 including only $\\beta_i$ as an explanatory variable and restate (c). Are your results supportive of the CAPM model?\n",
    "\n",
    "__Step 12__ Graph the average returns against the estimated betas and comment on your graph – remembering that this is the security market line (SML) – with respect to CAPM\n",
    "findings.\n",
    "\n",
    "__Step 13__ Write an analytical report of all your analysis. This should include: (a) _a short Introduction_; (b) _a Data Set section_; (c) _an Empirical Results section_ and (d) _a Concluding Remarks section_. Discuss the validity (or otherwise) of the CAPM, including references if you refer to any other studies."
   ]
  },
  {
   "cell_type": "markdown",
   "id": "721b9ba4-a2ca-4fdf-8fd6-b7c0d14388de",
   "metadata": {
    "tags": []
   },
   "source": [
    "# Probelm 3 (source Masterig metrics)\n",
    "1. This question uses replication data from Angrist, Lang, and Oreopoulos(2009) (ALO) (http://www.masteringmetrics.com/wp-content/uploads/2020/05/app.1.1.136.pdf) posted in the Angrist Data Archive (https://economics.mit.edu/faculty/angrist/data1/data/angrist,1)\n",
    "     1. Compare fall grades (grade_20059_fall) in the control group to each of the 3 treatment groups (ssp, sfp, and sfsp). For each test, report the difference in means (use t test), the standard error of the difference in means, and the t-statistic. Are any of these differences statistically significant?\n",
    "     2. Make a regression model to compute the same pairwise comparisons and the associated test statistics\n",
    " \n",
    "2. Estimate a multivariate regression of fall grades on all three treatment dummies (_ssp_, _sfp_, and _sfsp_).\n",
    "    1. How do these coefficients compare to those obtained in part (A) above?\n",
    "    2. Compare your results here to the estimates reported in the first column (top panel) of Table 5 in ALO (2009). Why do your estimates differ?\n",
    "\n",
    "3. Code a dummy variable for students belonging to either the SFP group or the SFSP group, and regress fall grades on the SSP dummy and this dummy. Interpret the magnitude of the coefficient on this new variable.\n",
    "\n",
    "4. Add controls for gender, high school GPA, mother education, and father education to the regres\u0002sion you run in part (d). Does including these controls matter for estimated treatment effects from the STAR experiment? Explain.\n"
   ]
  },
  {
   "cell_type": "code",
   "execution_count": null,
   "id": "8d9825af-c5db-4dac-b9c1-3266f4d92814",
   "metadata": {},
   "outputs": [],
   "source": []
  }
 ],
 "metadata": {
  "kernelspec": {
   "display_name": "R",
   "language": "R",
   "name": "ir"
  },
  "language_info": {
   "codemirror_mode": "r",
   "file_extension": ".r",
   "mimetype": "text/x-r-source",
   "name": "R",
   "pygments_lexer": "r",
   "version": "3.6.1"
  }
 },
 "nbformat": 4,
 "nbformat_minor": 5
}
